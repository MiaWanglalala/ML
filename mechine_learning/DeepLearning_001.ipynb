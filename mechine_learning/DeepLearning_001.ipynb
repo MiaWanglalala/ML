{
 "cells": [
  {
   "cell_type": "markdown",
   "metadata": {},
   "source": [
    "# Deep Learning"
   ]
  },
  {
   "cell_type": "code",
   "execution_count": 1,
   "metadata": {},
   "outputs": [],
   "source": [
    "import numpy\n",
    "import scipy.special as ssp"
   ]
  },
  {
   "cell_type": "code",
   "execution_count": null,
   "metadata": {},
   "outputs": [],
   "source": [
    "class NeuralNetwork:\n",
    "    def __int__(self, input_nodes, hidden_nodes, output_nodes, learning_rate, weight_ih, weight_ho):\n",
    "        self.i_nodes = input_nodes\n",
    "        self.h_nodes = hidden_nodes\n",
    "        self.o_nodes = output_nodes\n",
    "        self.l_rate = learning_rate\n",
    "        \n",
    "        self.wih = numpy.random.rand(self.i_nodes, self.h_nodes) - 0.5\n",
    "        self.who = numpy.random.rand(self.h_nodes, self.o_nodes) - 0.5\n",
    "        \n",
    "        self.activity_function = lambda x: ssp.expit(x)\n",
    "        \n",
    "        pass\n",
    "    def train():\n",
    "        \n",
    "        pass\n",
    "    def predict(self, input_list):\n",
    "         hidden_ouput = self.activity_function(numpy.dot(self.wih, inputs))\n",
    "         final_output = self.activity_function(numpy.dot(self.who, hidden_ouput))\n",
    "         return final_output   \n",
    "        \n",
    "        pass\n",
    "        \n",
    "    \n",
    "        "
   ]
  },
  {
   "cell_type": "code",
   "execution_count": null,
   "metadata": {},
   "outputs": [],
   "source": [
    "input_nodes = 3\n",
    "hidden_nodes = 3\n",
    "output_nodes = 3\n",
    "learning_rate = 0.3\n",
    "\n",
    "neural = NeuralNetwork(input_nodes, hidden_nodes, output_nodes, learning_rate)"
   ]
  },
  {
   "cell_type": "code",
   "execution_count": null,
   "metadata": {},
   "outputs": [],
   "source": []
  }
 ],
 "metadata": {
  "kernelspec": {
   "display_name": "Python 3",
   "language": "python",
   "name": "python3"
  },
  "language_info": {
   "codemirror_mode": {
    "name": "ipython",
    "version": 3
   },
   "file_extension": ".py",
   "mimetype": "text/x-python",
   "name": "python",
   "nbconvert_exporter": "python",
   "pygments_lexer": "ipython3",
   "version": "3.7.5"
  }
 },
 "nbformat": 4,
 "nbformat_minor": 2
}
